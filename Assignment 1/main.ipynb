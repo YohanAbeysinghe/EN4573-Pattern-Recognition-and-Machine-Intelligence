{
 "cells": [
  {
   "cell_type": "markdown",
   "metadata": {},
   "source": [
    "## <center>Assignment 1</center>\n",
    "\n",
    "**Abeysinghe W.A.M.S.Y**   \n",
    "**190014F**"
   ]
  },
  {
   "cell_type": "markdown",
   "metadata": {},
   "source": [
    "## 1. Loading the Dataset"
   ]
  },
  {
   "cell_type": "code",
   "execution_count": 7,
   "metadata": {},
   "outputs": [],
   "source": [
    "import pandas as pd"
   ]
  },
  {
   "cell_type": "code",
   "execution_count": 8,
   "metadata": {},
   "outputs": [
    {
     "name": "stdout",
     "output_type": "stream",
     "text": [
      "   Unnamed: 0  Order        PID  MS SubClass MS Zoning  Lot Frontage  \\\n",
      "0           0      1  526301100           20        RL         141.0   \n",
      "1           1      2  526350040           20        RH          80.0   \n",
      "2           2      3  526351010           20        RL          81.0   \n",
      "3           3      4  526353030           20        RL          93.0   \n",
      "4           4      5  527105010           60        RL          74.0   \n",
      "\n",
      "   Lot Area Street Alley Lot Shape  ... Pool Area Pool QC  Fence Misc Feature  \\\n",
      "0     31770   Pave   NaN       IR1  ...         0     NaN    NaN          NaN   \n",
      "1     11622   Pave   NaN       Reg  ...         0     NaN  MnPrv          NaN   \n",
      "2     14267   Pave   NaN       IR1  ...         0     NaN    NaN         Gar2   \n",
      "3     11160   Pave   NaN       Reg  ...         0     NaN    NaN          NaN   \n",
      "4     13830   Pave   NaN       IR1  ...         0     NaN  MnPrv          NaN   \n",
      "\n",
      "  Misc Val Mo Sold Yr Sold Sale Type Sale Condition  SalePrice  \n",
      "0        0       5    2010       WD          Normal     215000  \n",
      "1        0       6    2010       WD          Normal     105000  \n",
      "2    12500       6    2010       WD          Normal     172000  \n",
      "3        0       4    2010       WD          Normal     244000  \n",
      "4        0       3    2010       WD          Normal     189900  \n",
      "\n",
      "[5 rows x 83 columns]\n"
     ]
    }
   ],
   "source": [
    "# Load the dataset\n",
    "data = pd.read_csv('../housing.csv')\n",
    "print(data.head())"
   ]
  },
  {
   "cell_type": "markdown",
   "metadata": {},
   "source": [
    "## 2. Preprocessing\n",
    "\n",
    "#### 2.1. Removing NaNs"
   ]
  },
  {
   "cell_type": "code",
   "execution_count": 16,
   "metadata": {},
   "outputs": [],
   "source": [
    "from sklearn.model_selection import train_test_split"
   ]
  },
  {
   "cell_type": "code",
   "execution_count": 18,
   "metadata": {},
   "outputs": [],
   "source": [
    "# Select independent features\n",
    "features = ['Lot Area', 'Garage Yr Blt', 'Bedroom AbvGr', 'Kitchen AbvGr', 'Pool Area']\n",
    "target = ['SalePrice']\n",
    "\n",
    "# Remove rows with missing values (Nan)\n",
    "cleanData = data.dropna(subset= features + target)\n",
    "\n",
    "# Extract features and target variable from filtered data\n",
    "X_clean = cleanData[features].to_numpy()\n",
    "y_clean = cleanData[target].to_numpy()"
   ]
  },
  {
   "cell_type": "code",
   "execution_count": 19,
   "metadata": {},
   "outputs": [
    {
     "name": "stdout",
     "output_type": "stream",
     "text": [
      "(2930, 83)\n",
      "(2771, 83)\n"
     ]
    }
   ],
   "source": [
    "print(data.shape)\n",
    "print(cleanData.shape)"
   ]
  },
  {
   "cell_type": "markdown",
   "metadata": {},
   "source": [
    "#### 2.2. Plotting Data and Analysing"
   ]
  }
 ],
 "metadata": {
  "kernelspec": {
   "display_name": "Python 3.9 (pytorch)",
   "language": "python",
   "name": "pytorch"
  },
  "language_info": {
   "codemirror_mode": {
    "name": "ipython",
    "version": 3
   },
   "file_extension": ".py",
   "mimetype": "text/x-python",
   "name": "python",
   "nbconvert_exporter": "python",
   "pygments_lexer": "ipython3",
   "version": "3.9.15"
  }
 },
 "nbformat": 4,
 "nbformat_minor": 2
}
